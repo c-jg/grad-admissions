{
  "nbformat": 4,
  "nbformat_minor": 0,
  "metadata": {
    "colab": {
      "name": "Grad_Admissions.ipynb",
      "provenance": [],
      "collapsed_sections": [],
      "authorship_tag": "ABX9TyMEl/Nl3NBI7RKGuiODIrPe"
    },
    "kernelspec": {
      "name": "python3",
      "display_name": "Python 3"
    }
  },
  "cells": [
    {
      "cell_type": "markdown",
      "metadata": {
        "id": "Xiv51AeiK_wc",
        "colab_type": "text"
      },
      "source": [
        "# **Graduate School Admissions Predictions**"
      ]
    },
    {
      "cell_type": "code",
      "metadata": {
        "id": "VHpfGxkoy9-j",
        "colab_type": "code",
        "colab": {}
      },
      "source": [
        "import pandas as pd\n",
        "import matplotlib.pyplot as plt\n",
        "import numpy as np\n",
        "\n",
        "import tensorflow as tf\n",
        "from tensorflow import keras\n",
        "from tensorflow.keras import layers"
      ],
      "execution_count": 0,
      "outputs": []
    },
    {
      "cell_type": "markdown",
      "metadata": {
        "id": "s9gk5c8mK3CY",
        "colab_type": "text"
      },
      "source": [
        "**Load Data**"
      ]
    },
    {
      "cell_type": "code",
      "metadata": {
        "id": "9UKULBCXzSS8",
        "colab_type": "code",
        "outputId": "6fc9122a-1744-4497-b3fd-fb704a2282f3",
        "colab": {
          "base_uri": "https://localhost:8080/",
          "height": 204
        }
      },
      "source": [
        "df = pd.read_csv('Admission_Predict_Ver1.1.csv')\n",
        "df.columns\n",
        "# Remove unnecessary spaces in column names\n",
        "df.rename(columns={'Chance of Admit ':'Chance of Admit', 'LOR ':'LOR'}, inplace=True)\n",
        "df.head()"
      ],
      "execution_count": 346,
      "outputs": [
        {
          "output_type": "execute_result",
          "data": {
            "text/html": [
              "<div>\n",
              "<style scoped>\n",
              "    .dataframe tbody tr th:only-of-type {\n",
              "        vertical-align: middle;\n",
              "    }\n",
              "\n",
              "    .dataframe tbody tr th {\n",
              "        vertical-align: top;\n",
              "    }\n",
              "\n",
              "    .dataframe thead th {\n",
              "        text-align: right;\n",
              "    }\n",
              "</style>\n",
              "<table border=\"1\" class=\"dataframe\">\n",
              "  <thead>\n",
              "    <tr style=\"text-align: right;\">\n",
              "      <th></th>\n",
              "      <th>Serial No.</th>\n",
              "      <th>GRE Score</th>\n",
              "      <th>TOEFL Score</th>\n",
              "      <th>University Rating</th>\n",
              "      <th>SOP</th>\n",
              "      <th>LOR</th>\n",
              "      <th>CGPA</th>\n",
              "      <th>Research</th>\n",
              "      <th>Chance of Admit</th>\n",
              "    </tr>\n",
              "  </thead>\n",
              "  <tbody>\n",
              "    <tr>\n",
              "      <th>0</th>\n",
              "      <td>1</td>\n",
              "      <td>337</td>\n",
              "      <td>118</td>\n",
              "      <td>4</td>\n",
              "      <td>4.5</td>\n",
              "      <td>4.5</td>\n",
              "      <td>9.65</td>\n",
              "      <td>1</td>\n",
              "      <td>0.92</td>\n",
              "    </tr>\n",
              "    <tr>\n",
              "      <th>1</th>\n",
              "      <td>2</td>\n",
              "      <td>324</td>\n",
              "      <td>107</td>\n",
              "      <td>4</td>\n",
              "      <td>4.0</td>\n",
              "      <td>4.5</td>\n",
              "      <td>8.87</td>\n",
              "      <td>1</td>\n",
              "      <td>0.76</td>\n",
              "    </tr>\n",
              "    <tr>\n",
              "      <th>2</th>\n",
              "      <td>3</td>\n",
              "      <td>316</td>\n",
              "      <td>104</td>\n",
              "      <td>3</td>\n",
              "      <td>3.0</td>\n",
              "      <td>3.5</td>\n",
              "      <td>8.00</td>\n",
              "      <td>1</td>\n",
              "      <td>0.72</td>\n",
              "    </tr>\n",
              "    <tr>\n",
              "      <th>3</th>\n",
              "      <td>4</td>\n",
              "      <td>322</td>\n",
              "      <td>110</td>\n",
              "      <td>3</td>\n",
              "      <td>3.5</td>\n",
              "      <td>2.5</td>\n",
              "      <td>8.67</td>\n",
              "      <td>1</td>\n",
              "      <td>0.80</td>\n",
              "    </tr>\n",
              "    <tr>\n",
              "      <th>4</th>\n",
              "      <td>5</td>\n",
              "      <td>314</td>\n",
              "      <td>103</td>\n",
              "      <td>2</td>\n",
              "      <td>2.0</td>\n",
              "      <td>3.0</td>\n",
              "      <td>8.21</td>\n",
              "      <td>0</td>\n",
              "      <td>0.65</td>\n",
              "    </tr>\n",
              "  </tbody>\n",
              "</table>\n",
              "</div>"
            ],
            "text/plain": [
              "   Serial No.  GRE Score  TOEFL Score  ...  CGPA  Research  Chance of Admit\n",
              "0           1        337          118  ...  9.65         1             0.92\n",
              "1           2        324          107  ...  8.87         1             0.76\n",
              "2           3        316          104  ...  8.00         1             0.72\n",
              "3           4        322          110  ...  8.67         1             0.80\n",
              "4           5        314          103  ...  8.21         0             0.65\n",
              "\n",
              "[5 rows x 9 columns]"
            ]
          },
          "metadata": {
            "tags": []
          },
          "execution_count": 346
        }
      ]
    },
    {
      "cell_type": "markdown",
      "metadata": {
        "id": "s7ZpQwhXOMa_",
        "colab_type": "text"
      },
      "source": [
        "**Clean Data**"
      ]
    },
    {
      "cell_type": "code",
      "metadata": {
        "id": "eVnnpKnGOOvs",
        "colab_type": "code",
        "outputId": "40784da7-ed0a-47da-9ecf-427c81d758eb",
        "colab": {
          "base_uri": "https://localhost:8080/",
          "height": 357
        }
      },
      "source": [
        "df.drop(columns=['Serial No.'], inplace=True)\n",
        "print(df.isna().sum())\n",
        "df.head()"
      ],
      "execution_count": 347,
      "outputs": [
        {
          "output_type": "stream",
          "text": [
            "GRE Score            0\n",
            "TOEFL Score          0\n",
            "University Rating    0\n",
            "SOP                  0\n",
            "LOR                  0\n",
            "CGPA                 0\n",
            "Research             0\n",
            "Chance of Admit      0\n",
            "dtype: int64\n"
          ],
          "name": "stdout"
        },
        {
          "output_type": "execute_result",
          "data": {
            "text/html": [
              "<div>\n",
              "<style scoped>\n",
              "    .dataframe tbody tr th:only-of-type {\n",
              "        vertical-align: middle;\n",
              "    }\n",
              "\n",
              "    .dataframe tbody tr th {\n",
              "        vertical-align: top;\n",
              "    }\n",
              "\n",
              "    .dataframe thead th {\n",
              "        text-align: right;\n",
              "    }\n",
              "</style>\n",
              "<table border=\"1\" class=\"dataframe\">\n",
              "  <thead>\n",
              "    <tr style=\"text-align: right;\">\n",
              "      <th></th>\n",
              "      <th>GRE Score</th>\n",
              "      <th>TOEFL Score</th>\n",
              "      <th>University Rating</th>\n",
              "      <th>SOP</th>\n",
              "      <th>LOR</th>\n",
              "      <th>CGPA</th>\n",
              "      <th>Research</th>\n",
              "      <th>Chance of Admit</th>\n",
              "    </tr>\n",
              "  </thead>\n",
              "  <tbody>\n",
              "    <tr>\n",
              "      <th>0</th>\n",
              "      <td>337</td>\n",
              "      <td>118</td>\n",
              "      <td>4</td>\n",
              "      <td>4.5</td>\n",
              "      <td>4.5</td>\n",
              "      <td>9.65</td>\n",
              "      <td>1</td>\n",
              "      <td>0.92</td>\n",
              "    </tr>\n",
              "    <tr>\n",
              "      <th>1</th>\n",
              "      <td>324</td>\n",
              "      <td>107</td>\n",
              "      <td>4</td>\n",
              "      <td>4.0</td>\n",
              "      <td>4.5</td>\n",
              "      <td>8.87</td>\n",
              "      <td>1</td>\n",
              "      <td>0.76</td>\n",
              "    </tr>\n",
              "    <tr>\n",
              "      <th>2</th>\n",
              "      <td>316</td>\n",
              "      <td>104</td>\n",
              "      <td>3</td>\n",
              "      <td>3.0</td>\n",
              "      <td>3.5</td>\n",
              "      <td>8.00</td>\n",
              "      <td>1</td>\n",
              "      <td>0.72</td>\n",
              "    </tr>\n",
              "    <tr>\n",
              "      <th>3</th>\n",
              "      <td>322</td>\n",
              "      <td>110</td>\n",
              "      <td>3</td>\n",
              "      <td>3.5</td>\n",
              "      <td>2.5</td>\n",
              "      <td>8.67</td>\n",
              "      <td>1</td>\n",
              "      <td>0.80</td>\n",
              "    </tr>\n",
              "    <tr>\n",
              "      <th>4</th>\n",
              "      <td>314</td>\n",
              "      <td>103</td>\n",
              "      <td>2</td>\n",
              "      <td>2.0</td>\n",
              "      <td>3.0</td>\n",
              "      <td>8.21</td>\n",
              "      <td>0</td>\n",
              "      <td>0.65</td>\n",
              "    </tr>\n",
              "  </tbody>\n",
              "</table>\n",
              "</div>"
            ],
            "text/plain": [
              "   GRE Score  TOEFL Score  University Rating  ...  CGPA  Research  Chance of Admit\n",
              "0        337          118                  4  ...  9.65         1             0.92\n",
              "1        324          107                  4  ...  8.87         1             0.76\n",
              "2        316          104                  3  ...  8.00         1             0.72\n",
              "3        322          110                  3  ...  8.67         1             0.80\n",
              "4        314          103                  2  ...  8.21         0             0.65\n",
              "\n",
              "[5 rows x 8 columns]"
            ]
          },
          "metadata": {
            "tags": []
          },
          "execution_count": 347
        }
      ]
    },
    {
      "cell_type": "markdown",
      "metadata": {
        "id": "992Pofwt6GCz",
        "colab_type": "text"
      },
      "source": [
        "**Analysis and Visualization**"
      ]
    },
    {
      "cell_type": "code",
      "metadata": {
        "id": "1cZKl5NX3nUI",
        "colab_type": "code",
        "outputId": "e2c34110-7371-4061-8936-1d3c71a71ed0",
        "colab": {
          "base_uri": "https://localhost:8080/",
          "height": 34
        }
      },
      "source": [
        "df[\"Chance of Admit\"].max()"
      ],
      "execution_count": 348,
      "outputs": [
        {
          "output_type": "execute_result",
          "data": {
            "text/plain": [
              "0.97"
            ]
          },
          "metadata": {
            "tags": []
          },
          "execution_count": 348
        }
      ]
    },
    {
      "cell_type": "markdown",
      "metadata": {
        "id": "oz5Fj4To7N1w",
        "colab_type": "text"
      },
      "source": [
        "Guaranteed admissions (100% chance of admit) are not present in this dataset."
      ]
    },
    {
      "cell_type": "markdown",
      "metadata": {
        "id": "_uljPbsBMFTM",
        "colab_type": "text"
      },
      "source": [
        "**Test Scores: GRE & TOEFL**"
      ]
    },
    {
      "cell_type": "code",
      "metadata": {
        "id": "m12XwDRC8B7f",
        "colab_type": "code",
        "outputId": "2f4b6f6c-bde3-46da-8989-b76d171001f5",
        "colab": {
          "base_uri": "https://localhost:8080/",
          "height": 288
        }
      },
      "source": [
        "# GRE \n",
        "plt.subplot(1,2,1)\n",
        "plt.scatter(df['GRE Score'], df['Chance of Admit'], color='g')\n",
        "plt.xlabel('GRE Score')\n",
        "plt.ylabel('Chance of Admit')\n",
        "# TOEFL \n",
        "plt.subplot(1,2,2)\n",
        "plt.scatter(df['TOEFL Score'], df['Chance of Admit'], color='b')\n",
        "plt.xlabel('TOEFL Score')\n",
        "plt.show()"
      ],
      "execution_count": 349,
      "outputs": [
        {
          "output_type": "display_data",
          "data": {
            "image/png": "[encoded data removed]",
            "text/plain": [
              "<Figure size 432x288 with 2 Axes>"
            ]
          },
          "metadata": {
            "tags": []
          }
        }
      ]
    },
    {
      "cell_type": "markdown",
      "metadata": {
        "id": "6DHsvRYEMW1n",
        "colab_type": "text"
      },
      "source": [
        "**University Rating**"
      ]
    },
    {
      "cell_type": "code",
      "metadata": {
        "id": "DfFB2GdPBUFU",
        "colab_type": "code",
        "outputId": "0d0a9363-ed41-4542-caf0-7de49f9dc458",
        "colab": {
          "base_uri": "https://localhost:8080/",
          "height": 288
        }
      },
      "source": [
        "plt.scatter(df['University Rating'], df['Chance of Admit'], color='b')\n",
        "plt.xlabel('University Rating')\n",
        "plt.ylabel('Chance of Admit')\n",
        "plt.show()"
      ],
      "execution_count": 350,
      "outputs": [
        {
          "output_type": "display_data",
          "data": {
            "image/png": "[encoded data removed]",
            "text/plain": [
              "<Figure size 432x288 with 1 Axes>"
            ]
          },
          "metadata": {
            "tags": []
          }
        }
      ]
    },
    {
      "cell_type": "code",
      "metadata": {
        "id": "0nLY_tjFCy1f",
        "colab_type": "code",
        "outputId": "3a6200f2-7303-4a08-ba05-da852f67d4d4",
        "colab": {
          "base_uri": "https://localhost:8080/",
          "height": 506
        }
      },
      "source": [
        "x = df.groupby(df['University Rating'])['Chance of Admit'].apply(list)\n",
        "plt.boxplot(x)\n",
        "plt.xlabel('University Rating')\n",
        "plt.ylabel('Chance of Admit')\n",
        "plt.show()\n",
        "\n",
        "mx = df.groupby(df['University Rating'])['Chance of Admit'].max().sort_values(ascending=False)\n",
        "mn = df.groupby(df['University Rating'])['Chance of Admit'].min().sort_values(ascending=False)\n",
        "avg = df.groupby(df['University Rating'])['Chance of Admit'].mean().sort_values(ascending=False)\n",
        "rng = mx - mn\n",
        "pd.DataFrame({'Min':mn, 'Max':mx, 'Range':rng, 'Average':avg})"
      ],
      "execution_count": 351,
      "outputs": [
        {
          "output_type": "display_data",
          "data": {
            "image/png": "[encoded data removed]",
            "text/plain": [
              "<Figure size 432x288 with 1 Axes>"
            ]
          },
          "metadata": {
            "tags": []
          }
        },
        {
          "output_type": "execute_result",
          "data": {
            "text/html": [
              "<div>\n",
              "<style scoped>\n",
              "    .dataframe tbody tr th:only-of-type {\n",
              "        vertical-align: middle;\n",
              "    }\n",
              "\n",
              "    .dataframe tbody tr th {\n",
              "        vertical-align: top;\n",
              "    }\n",
              "\n",
              "    .dataframe thead th {\n",
              "        text-align: right;\n",
              "    }\n",
              "</style>\n",
              "<table border=\"1\" class=\"dataframe\">\n",
              "  <thead>\n",
              "    <tr style=\"text-align: right;\">\n",
              "      <th></th>\n",
              "      <th>Min</th>\n",
              "      <th>Max</th>\n",
              "      <th>Range</th>\n",
              "      <th>Average</th>\n",
              "    </tr>\n",
              "    <tr>\n",
              "      <th>University Rating</th>\n",
              "      <th></th>\n",
              "      <th></th>\n",
              "      <th></th>\n",
              "      <th></th>\n",
              "    </tr>\n",
              "  </thead>\n",
              "  <tbody>\n",
              "    <tr>\n",
              "      <th>1</th>\n",
              "      <td>0.36</td>\n",
              "      <td>0.79</td>\n",
              "      <td>0.43</td>\n",
              "      <td>0.562059</td>\n",
              "    </tr>\n",
              "    <tr>\n",
              "      <th>2</th>\n",
              "      <td>0.34</td>\n",
              "      <td>0.90</td>\n",
              "      <td>0.56</td>\n",
              "      <td>0.626111</td>\n",
              "    </tr>\n",
              "    <tr>\n",
              "      <th>3</th>\n",
              "      <td>0.36</td>\n",
              "      <td>0.90</td>\n",
              "      <td>0.54</td>\n",
              "      <td>0.702901</td>\n",
              "    </tr>\n",
              "    <tr>\n",
              "      <th>4</th>\n",
              "      <td>0.42</td>\n",
              "      <td>0.97</td>\n",
              "      <td>0.55</td>\n",
              "      <td>0.801619</td>\n",
              "    </tr>\n",
              "    <tr>\n",
              "      <th>5</th>\n",
              "      <td>0.61</td>\n",
              "      <td>0.97</td>\n",
              "      <td>0.36</td>\n",
              "      <td>0.888082</td>\n",
              "    </tr>\n",
              "  </tbody>\n",
              "</table>\n",
              "</div>"
            ],
            "text/plain": [
              "                    Min   Max  Range   Average\n",
              "University Rating                             \n",
              "1                  0.36  0.79   0.43  0.562059\n",
              "2                  0.34  0.90   0.56  0.626111\n",
              "3                  0.36  0.90   0.54  0.702901\n",
              "4                  0.42  0.97   0.55  0.801619\n",
              "5                  0.61  0.97   0.36  0.888082"
            ]
          },
          "metadata": {
            "tags": []
          },
          "execution_count": 351
        }
      ]
    },
    {
      "cell_type": "markdown",
      "metadata": {
        "id": "eqyt7MqRPf8g",
        "colab_type": "text"
      },
      "source": [
        "**Supplemental Forms: LOR & SOP**"
      ]
    },
    {
      "cell_type": "code",
      "metadata": {
        "id": "hju05tMSRW0b",
        "colab_type": "code",
        "outputId": "faff0164-69f2-4194-b9e6-9989fc8f6625",
        "colab": {
          "base_uri": "https://localhost:8080/",
          "height": 599
        }
      },
      "source": [
        "plt.subplot(1,2,1)\n",
        "plt.scatter(df.LOR, df['Chance of Admit'])\n",
        "plt.xlabel('Letter of Recommendation Score')\n",
        "plt.ylabel('Chance of Admit')\n",
        "plt.subplot(1,2,2)\n",
        "plt.scatter(df.SOP, df['Chance of Admit'])\n",
        "plt.xlabel('Statment of Purpose Score')\n",
        "plt.show()\n",
        "\n",
        "pd.DataFrame({'LOR': df.groupby(df.LOR)['Chance of Admit'].mean(), 'SOP':df.groupby(df.SOP)['Chance of Admit'].mean()})"
      ],
      "execution_count": 352,
      "outputs": [
        {
          "output_type": "display_data",
          "data": {
            "image/png": "[encoded data removed]",
            "text/plain": [
              "<Figure size 432x288 with 2 Axes>"
            ]
          },
          "metadata": {
            "tags": []
          }
        },
        {
          "output_type": "execute_result",
          "data": {
            "text/html": [
              "<div>\n",
              "<style scoped>\n",
              "    .dataframe tbody tr th:only-of-type {\n",
              "        vertical-align: middle;\n",
              "    }\n",
              "\n",
              "    .dataframe tbody tr th {\n",
              "        vertical-align: top;\n",
              "    }\n",
              "\n",
              "    .dataframe thead th {\n",
              "        text-align: right;\n",
              "    }\n",
              "</style>\n",
              "<table border=\"1\" class=\"dataframe\">\n",
              "  <thead>\n",
              "    <tr style=\"text-align: right;\">\n",
              "      <th></th>\n",
              "      <th>LOR</th>\n",
              "      <th>SOP</th>\n",
              "    </tr>\n",
              "  </thead>\n",
              "  <tbody>\n",
              "    <tr>\n",
              "      <th>1.0</th>\n",
              "      <td>0.420000</td>\n",
              "      <td>0.538333</td>\n",
              "    </tr>\n",
              "    <tr>\n",
              "      <th>1.5</th>\n",
              "      <td>0.550000</td>\n",
              "      <td>0.546400</td>\n",
              "    </tr>\n",
              "    <tr>\n",
              "      <th>2.0</th>\n",
              "      <td>0.568261</td>\n",
              "      <td>0.589535</td>\n",
              "    </tr>\n",
              "    <tr>\n",
              "      <th>2.5</th>\n",
              "      <td>0.640600</td>\n",
              "      <td>0.645312</td>\n",
              "    </tr>\n",
              "    <tr>\n",
              "      <th>3.0</th>\n",
              "      <td>0.668485</td>\n",
              "      <td>0.678500</td>\n",
              "    </tr>\n",
              "    <tr>\n",
              "      <th>3.5</th>\n",
              "      <td>0.723023</td>\n",
              "      <td>0.712045</td>\n",
              "    </tr>\n",
              "    <tr>\n",
              "      <th>4.0</th>\n",
              "      <td>0.764149</td>\n",
              "      <td>0.782809</td>\n",
              "    </tr>\n",
              "    <tr>\n",
              "      <th>4.5</th>\n",
              "      <td>0.831905</td>\n",
              "      <td>0.850000</td>\n",
              "    </tr>\n",
              "    <tr>\n",
              "      <th>5.0</th>\n",
              "      <td>0.872600</td>\n",
              "      <td>0.885000</td>\n",
              "    </tr>\n",
              "  </tbody>\n",
              "</table>\n",
              "</div>"
            ],
            "text/plain": [
              "          LOR       SOP\n",
              "1.0  0.420000  0.538333\n",
              "1.5  0.550000  0.546400\n",
              "2.0  0.568261  0.589535\n",
              "2.5  0.640600  0.645312\n",
              "3.0  0.668485  0.678500\n",
              "3.5  0.723023  0.712045\n",
              "4.0  0.764149  0.782809\n",
              "4.5  0.831905  0.850000\n",
              "5.0  0.872600  0.885000"
            ]
          },
          "metadata": {
            "tags": []
          },
          "execution_count": 352
        }
      ]
    },
    {
      "cell_type": "code",
      "metadata": {
        "id": "XiqoD0f88gc6",
        "colab_type": "code",
        "outputId": "c5d4b41b-91d4-49b2-8b4d-3f661d580351",
        "colab": {
          "base_uri": "https://localhost:8080/",
          "height": 111
        }
      },
      "source": [
        "df[((df.SOP == 4) | (df.SOP == 5)) & (df['Chance of Admit'] <= .4)]"
      ],
      "execution_count": 353,
      "outputs": [
        {
          "output_type": "execute_result",
          "data": {
            "text/html": [
              "<div>\n",
              "<style scoped>\n",
              "    .dataframe tbody tr th:only-of-type {\n",
              "        vertical-align: middle;\n",
              "    }\n",
              "\n",
              "    .dataframe tbody tr th {\n",
              "        vertical-align: top;\n",
              "    }\n",
              "\n",
              "    .dataframe thead th {\n",
              "        text-align: right;\n",
              "    }\n",
              "</style>\n",
              "<table border=\"1\" class=\"dataframe\">\n",
              "  <thead>\n",
              "    <tr style=\"text-align: right;\">\n",
              "      <th></th>\n",
              "      <th>GRE Score</th>\n",
              "      <th>TOEFL Score</th>\n",
              "      <th>University Rating</th>\n",
              "      <th>SOP</th>\n",
              "      <th>LOR</th>\n",
              "      <th>CGPA</th>\n",
              "      <th>Research</th>\n",
              "      <th>Chance of Admit</th>\n",
              "    </tr>\n",
              "  </thead>\n",
              "  <tbody>\n",
              "    <tr>\n",
              "      <th>91</th>\n",
              "      <td>299</td>\n",
              "      <td>97</td>\n",
              "      <td>3</td>\n",
              "      <td>5.0</td>\n",
              "      <td>3.5</td>\n",
              "      <td>7.66</td>\n",
              "      <td>0</td>\n",
              "      <td>0.38</td>\n",
              "    </tr>\n",
              "    <tr>\n",
              "      <th>92</th>\n",
              "      <td>298</td>\n",
              "      <td>98</td>\n",
              "      <td>2</td>\n",
              "      <td>4.0</td>\n",
              "      <td>3.0</td>\n",
              "      <td>8.03</td>\n",
              "      <td>0</td>\n",
              "      <td>0.34</td>\n",
              "    </tr>\n",
              "  </tbody>\n",
              "</table>\n",
              "</div>"
            ],
            "text/plain": [
              "    GRE Score  TOEFL Score  University Rating  ...  CGPA  Research  Chance of Admit\n",
              "91        299           97                  3  ...  7.66         0             0.38\n",
              "92        298           98                  2  ...  8.03         0             0.34\n",
              "\n",
              "[2 rows x 8 columns]"
            ]
          },
          "metadata": {
            "tags": []
          },
          "execution_count": 353
        }
      ]
    },
    {
      "cell_type": "markdown",
      "metadata": {
        "id": "5fODp97ANcxv",
        "colab_type": "text"
      },
      "source": [
        "**Cumulative GPA**"
      ]
    },
    {
      "cell_type": "code",
      "metadata": {
        "id": "TBemAJvo-wik",
        "colab_type": "code",
        "outputId": "702b128a-977f-4f1b-b3a2-648fcdf60fe9",
        "colab": {
          "base_uri": "https://localhost:8080/",
          "height": 288
        }
      },
      "source": [
        "plt.scatter(df.CGPA, df['Chance of Admit'])\n",
        "plt.xlabel('Cumulative GPA')\n",
        "plt.ylabel('Chance of Admit')\n",
        "plt.show()"
      ],
      "execution_count": 354,
      "outputs": [
        {
          "output_type": "display_data",
          "data": {
            "image/png": "[encoded data removed]",
            "text/plain": [
              "<Figure size 432x288 with 1 Axes>"
            ]
          },
          "metadata": {
            "tags": []
          }
        }
      ]
    },
    {
      "cell_type": "markdown",
      "metadata": {
        "id": "ADuLP5EeGGBM",
        "colab_type": "text"
      },
      "source": [
        "**GPA vs Research**"
      ]
    },
    {
      "cell_type": "code",
      "metadata": {
        "id": "ebgujATgGuON",
        "colab_type": "code",
        "outputId": "ca9a7e52-a679-4d9d-aded-cbf3be24f4e5",
        "colab": {
          "base_uri": "https://localhost:8080/",
          "height": 339
        }
      },
      "source": [
        "r = df[df.Research == 1]\n",
        "nr = df[df.Research == 0]\n",
        "plt.scatter(r.CGPA, r['Chance of Admit'], color='g', label='Research')\n",
        "plt.scatter(nr.CGPA, nr['Chance of Admit'], color='r', label='No Research')\n",
        "plt.legend()\n",
        "plt.show()\n",
        "print(f\"Highest Chance of Admission without Research: {nr['Chance of Admit'].max() * 100}%\")\n",
        "print('Average Chance of Admit')\n",
        "print(f\"Research: {round(r['Chance of Admit'].mean() * 100, 2)}%\")\n",
        "print(f\"No Research: {round(nr['Chance of Admit'].mean() * 100, 2)}%\")"
      ],
      "execution_count": 355,
      "outputs": [
        {
          "output_type": "display_data",
          "data": {
            "image/png": "[encoded data removed]",
            "text/plain": [
              "<Figure size 432x288 with 1 Axes>"
            ]
          },
          "metadata": {
            "tags": []
          }
        },
        {
          "output_type": "stream",
          "text": [
            "Highest Chance of Admission without Research: 89.0%\n",
            "Average Chance of Admit\n",
            "Research: 79.0%\n",
            "No Research: 63.49%\n"
          ],
          "name": "stdout"
        }
      ]
    },
    {
      "cell_type": "markdown",
      "metadata": {
        "id": "mPqi11i5NEfe",
        "colab_type": "text"
      },
      "source": [
        "### **Regression Model**"
      ]
    },
    {
      "cell_type": "markdown",
      "metadata": {
        "id": "wh_sOPmSVokl",
        "colab_type": "text"
      },
      "source": [
        "**Split Dataset**"
      ]
    },
    {
      "cell_type": "code",
      "metadata": {
        "id": "BvYS1VrdRxCN",
        "colab_type": "code",
        "outputId": "3009a644-af02-48a2-932b-ba1bed9f13f6",
        "colab": {
          "base_uri": "https://localhost:8080/",
          "height": 34
        }
      },
      "source": [
        "train_data = df.sample(frac=0.8, random_state=0)\n",
        "test_data = df.drop(train_data.index)\n",
        "print(df.shape, train_data.shape, test_data.shape)"
      ],
      "execution_count": 356,
      "outputs": [
        {
          "output_type": "stream",
          "text": [
            "(500, 8) (400, 8) (100, 8)\n"
          ],
          "name": "stdout"
        }
      ]
    },
    {
      "cell_type": "markdown",
      "metadata": {
        "id": "GPZML62dVuuE",
        "colab_type": "text"
      },
      "source": [
        "**Inspect Data**"
      ]
    },
    {
      "cell_type": "code",
      "metadata": {
        "id": "SnXZyP_rVuYd",
        "colab_type": "code",
        "outputId": "1699d56f-f782-4e6d-c3a5-fa7281a3b439",
        "colab": {
          "base_uri": "https://localhost:8080/",
          "height": 54
        }
      },
      "source": [
        "import seaborn as sns\n",
        "sns.set()\n",
        "sns.pairplot(train_data[[\"GRE Score\", \"TOEFL Score\", \"University Rating\", \"SOP\", \"LOR\", \"CGPA\", \"Research\", \"Chance of Admit\"]], diag_kind=\"kde\")"
      ],
      "execution_count": 357,
      "outputs": [
        {
          "output_type": "execute_result",
          "data": {
            "text/plain": [
              "'import seaborn as sns\\nsns.set()\\nsns.pairplot(train_data[[\"GRE Score\", \"TOEFL Score\", \"University Rating\", \"SOP\", \"LOR\", \"CGPA\", \"Research\", \"Chance of Admit\"]], diag_kind=\"kde\")'"
            ]
          },
          "metadata": {
            "tags": []
          },
          "execution_count": 357
        }
      ]
    },
    {
      "cell_type": "code",
      "metadata": {
        "id": "2TAFcp0tNLCx",
        "colab_type": "code",
        "outputId": "2002f622-7b28-4ab9-a544-05a2c491a7c9",
        "colab": {
          "base_uri": "https://localhost:8080/",
          "height": 266
        }
      },
      "source": [
        "train_stats = train_data.drop(columns=['Chance of Admit']).describe().transpose()\n",
        "train_stats"
      ],
      "execution_count": 358,
      "outputs": [
        {
          "output_type": "execute_result",
          "data": {
            "text/html": [
              "<div>\n",
              "<style scoped>\n",
              "    .dataframe tbody tr th:only-of-type {\n",
              "        vertical-align: middle;\n",
              "    }\n",
              "\n",
              "    .dataframe tbody tr th {\n",
              "        vertical-align: top;\n",
              "    }\n",
              "\n",
              "    .dataframe thead th {\n",
              "        text-align: right;\n",
              "    }\n",
              "</style>\n",
              "<table border=\"1\" class=\"dataframe\">\n",
              "  <thead>\n",
              "    <tr style=\"text-align: right;\">\n",
              "      <th></th>\n",
              "      <th>count</th>\n",
              "      <th>mean</th>\n",
              "      <th>std</th>\n",
              "      <th>min</th>\n",
              "      <th>25%</th>\n",
              "      <th>50%</th>\n",
              "      <th>75%</th>\n",
              "      <th>max</th>\n",
              "    </tr>\n",
              "  </thead>\n",
              "  <tbody>\n",
              "    <tr>\n",
              "      <th>GRE Score</th>\n",
              "      <td>400.0</td>\n",
              "      <td>316.217500</td>\n",
              "      <td>11.225651</td>\n",
              "      <td>290.0</td>\n",
              "      <td>308.00</td>\n",
              "      <td>316.00</td>\n",
              "      <td>324.25</td>\n",
              "      <td>340.00</td>\n",
              "    </tr>\n",
              "    <tr>\n",
              "      <th>TOEFL Score</th>\n",
              "      <td>400.0</td>\n",
              "      <td>107.082500</td>\n",
              "      <td>6.020907</td>\n",
              "      <td>92.0</td>\n",
              "      <td>102.00</td>\n",
              "      <td>107.00</td>\n",
              "      <td>112.00</td>\n",
              "      <td>120.00</td>\n",
              "    </tr>\n",
              "    <tr>\n",
              "      <th>University Rating</th>\n",
              "      <td>400.0</td>\n",
              "      <td>3.065000</td>\n",
              "      <td>1.126476</td>\n",
              "      <td>1.0</td>\n",
              "      <td>2.00</td>\n",
              "      <td>3.00</td>\n",
              "      <td>4.00</td>\n",
              "      <td>5.00</td>\n",
              "    </tr>\n",
              "    <tr>\n",
              "      <th>SOP</th>\n",
              "      <td>400.0</td>\n",
              "      <td>3.346250</td>\n",
              "      <td>0.983312</td>\n",
              "      <td>1.0</td>\n",
              "      <td>2.50</td>\n",
              "      <td>3.50</td>\n",
              "      <td>4.00</td>\n",
              "      <td>5.00</td>\n",
              "    </tr>\n",
              "    <tr>\n",
              "      <th>LOR</th>\n",
              "      <td>400.0</td>\n",
              "      <td>3.460000</td>\n",
              "      <td>0.902322</td>\n",
              "      <td>1.0</td>\n",
              "      <td>3.00</td>\n",
              "      <td>3.50</td>\n",
              "      <td>4.00</td>\n",
              "      <td>5.00</td>\n",
              "    </tr>\n",
              "    <tr>\n",
              "      <th>CGPA</th>\n",
              "      <td>400.0</td>\n",
              "      <td>8.562925</td>\n",
              "      <td>0.591376</td>\n",
              "      <td>6.8</td>\n",
              "      <td>8.12</td>\n",
              "      <td>8.54</td>\n",
              "      <td>9.02</td>\n",
              "      <td>9.92</td>\n",
              "    </tr>\n",
              "    <tr>\n",
              "      <th>Research</th>\n",
              "      <td>400.0</td>\n",
              "      <td>0.562500</td>\n",
              "      <td>0.496700</td>\n",
              "      <td>0.0</td>\n",
              "      <td>0.00</td>\n",
              "      <td>1.00</td>\n",
              "      <td>1.00</td>\n",
              "      <td>1.00</td>\n",
              "    </tr>\n",
              "  </tbody>\n",
              "</table>\n",
              "</div>"
            ],
            "text/plain": [
              "                   count        mean        std  ...     50%     75%     max\n",
              "GRE Score          400.0  316.217500  11.225651  ...  316.00  324.25  340.00\n",
              "TOEFL Score        400.0  107.082500   6.020907  ...  107.00  112.00  120.00\n",
              "University Rating  400.0    3.065000   1.126476  ...    3.00    4.00    5.00\n",
              "SOP                400.0    3.346250   0.983312  ...    3.50    4.00    5.00\n",
              "LOR                400.0    3.460000   0.902322  ...    3.50    4.00    5.00\n",
              "CGPA               400.0    8.562925   0.591376  ...    8.54    9.02    9.92\n",
              "Research           400.0    0.562500   0.496700  ...    1.00    1.00    1.00\n",
              "\n",
              "[7 rows x 8 columns]"
            ]
          },
          "metadata": {
            "tags": []
          },
          "execution_count": 358
        }
      ]
    },
    {
      "cell_type": "markdown",
      "metadata": {
        "id": "TF_saU7kEQ_q",
        "colab_type": "text"
      },
      "source": [
        "**Create Heatmap**"
      ]
    },
    {
      "cell_type": "code",
      "metadata": {
        "id": "YnAscb1xCFP1",
        "colab_type": "code",
        "outputId": "82697262-8170-4f36-eb52-787665fcda4b",
        "colab": {
          "base_uri": "https://localhost:8080/",
          "height": 642
        }
      },
      "source": [
        "corr = df.corr()\n",
        "mask = np.triu(np.ones_like(corr, dtype=np.bool))\n",
        "f, ax = plt.subplots(figsize=(11, 9))\n",
        "cmap = sns.diverging_palette(220, 10, as_cmap=True)\n",
        "sns.heatmap(corr, mask=mask, cmap=cmap, square=True, linewidths=.5, cbar_kws={\"shrink\": .5}, annot=True)"
      ],
      "execution_count": 359,
      "outputs": [
        {
          "output_type": "execute_result",
          "data": {
            "text/plain": [
              "<matplotlib.axes._subplots.AxesSubplot at 0x7fe048955c88>"
            ]
          },
          "metadata": {
            "tags": []
          },
          "execution_count": 359
        },
        {
          "output_type": "display_data",
          "data": {
            "image/png": "[encoded data removed]",
            "text/plain": [
              "<Figure size 792x648 with 2 Axes>"
            ]
          },
          "metadata": {
            "tags": []
          }
        }
      ]
    },
    {
      "cell_type": "markdown",
      "metadata": {
        "id": "4CA3mRX3YrhC",
        "colab_type": "text"
      },
      "source": [
        "**Select Labels**"
      ]
    },
    {
      "cell_type": "code",
      "metadata": {
        "id": "DEFIL_JSYu9x",
        "colab_type": "code",
        "colab": {}
      },
      "source": [
        "train_labels = train_data.pop('Chance of Admit')\n",
        "test_labels = test_data.pop('Chance of Admit')"
      ],
      "execution_count": 0,
      "outputs": []
    },
    {
      "cell_type": "markdown",
      "metadata": {
        "id": "dwH_JRY-aZ5l",
        "colab_type": "text"
      },
      "source": [
        "**Normalize Data**"
      ]
    },
    {
      "cell_type": "code",
      "metadata": {
        "id": "hX6KKS7pabmy",
        "colab_type": "code",
        "colab": {}
      },
      "source": [
        "def norm(x):\n",
        "    return (x - train_stats['mean']) / train_stats['std']\n",
        "    \n",
        "normed_train_data = norm(train_data)\n",
        "normed_test_data = norm(test_data)"
      ],
      "execution_count": 0,
      "outputs": []
    },
    {
      "cell_type": "markdown",
      "metadata": {
        "id": "gymFNxJla776",
        "colab_type": "text"
      },
      "source": [
        "**Build Model**"
      ]
    },
    {
      "cell_type": "code",
      "metadata": {
        "id": "QGDIfEcTa9xS",
        "colab_type": "code",
        "colab": {}
      },
      "source": [
        "callback = tf.keras.callbacks.EarlyStopping(monitor='loss', patience=10)\n",
        "\n",
        "def build_model():\n",
        "    model = keras.Sequential([\n",
        "                              layers.Dense(8, activation='relu', input_shape=[len(train_data.keys())]),\n",
        "                              layers.Dense(16, activation='relu'),\n",
        "                              layers.Dense(1)\n",
        "                              ])\n",
        "    \n",
        "    optimizer = tf.keras.optimizers.RMSprop(0.001)\n",
        "\n",
        "    model.compile(loss='mse',\n",
        "                  optimizer=optimizer,\n",
        "                  metrics=['mae', 'mse'])\n",
        "    \n",
        "    return model\n",
        "\n",
        "model = build_model()"
      ],
      "execution_count": 0,
      "outputs": []
    },
    {
      "cell_type": "markdown",
      "metadata": {
        "id": "N_5dLl0RccHj",
        "colab_type": "text"
      },
      "source": [
        "**Model Inspection**"
      ]
    },
    {
      "cell_type": "code",
      "metadata": {
        "id": "rjLGBAQ1ceK8",
        "colab_type": "code",
        "outputId": "607b8f4f-8215-4f80-97ad-69ba292d167c",
        "colab": {
          "base_uri": "https://localhost:8080/",
          "height": 255
        }
      },
      "source": [
        "model.summary()"
      ],
      "execution_count": 363,
      "outputs": [
        {
          "output_type": "stream",
          "text": [
            "Model: \"sequential_13\"\n",
            "_________________________________________________________________\n",
            "Layer (type)                 Output Shape              Param #   \n",
            "=================================================================\n",
            "dense_39 (Dense)             (None, 8)                 64        \n",
            "_________________________________________________________________\n",
            "dense_40 (Dense)             (None, 16)                144       \n",
            "_________________________________________________________________\n",
            "dense_41 (Dense)             (None, 1)                 17        \n",
            "=================================================================\n",
            "Total params: 225\n",
            "Trainable params: 225\n",
            "Non-trainable params: 0\n",
            "_________________________________________________________________\n"
          ],
          "name": "stdout"
        }
      ]
    },
    {
      "cell_type": "code",
      "metadata": {
        "id": "XYYJeTwGconR",
        "colab_type": "code",
        "outputId": "53222814-ce51-4f3f-ece9-abb7d31f9af0",
        "colab": {
          "base_uri": "https://localhost:8080/",
          "height": 187
        }
      },
      "source": [
        "example_batch = normed_train_data[:10]\n",
        "example_result = model.predict(example_batch)\n",
        "example_result"
      ],
      "execution_count": 364,
      "outputs": [
        {
          "output_type": "execute_result",
          "data": {
            "text/plain": [
              "array([[-1.0158746 ],\n",
              "       [ 0.05044607],\n",
              "       [-0.24585041],\n",
              "       [ 0.07782655],\n",
              "       [ 0.02731206],\n",
              "       [ 0.67250764],\n",
              "       [ 0.06486315],\n",
              "       [ 0.2821083 ],\n",
              "       [-0.09774423],\n",
              "       [-0.4202742 ]], dtype=float32)"
            ]
          },
          "metadata": {
            "tags": []
          },
          "execution_count": 364
        }
      ]
    },
    {
      "cell_type": "markdown",
      "metadata": {
        "id": "OS1Yratzc50U",
        "colab_type": "text"
      },
      "source": [
        "**Train Model**"
      ]
    },
    {
      "cell_type": "code",
      "metadata": {
        "id": "HHtVEaivc7uo",
        "colab_type": "code",
        "colab": {
          "base_uri": "https://localhost:8080/",
          "height": 1000
        },
        "outputId": "00ddc48e-e3c2-4d89-87e7-d4c2d5ce6cfa"
      },
      "source": [
        "history = model.fit(\n",
        "    normed_train_data, train_labels,\n",
        "    epochs=60, validation_split = 0.2,\n",
        "    verbose=1\n",
        ")"
      ],
      "execution_count": 365,
      "outputs": [
        {
          "output_type": "stream",
          "text": [
            "Epoch 1/60\n",
            "10/10 [==============================] - 0s 12ms/step - loss: 0.4880 - mae: 0.6286 - mse: 0.4880 - val_loss: 0.4001 - val_mae: 0.5558 - val_mse: 0.4001\n",
            "Epoch 2/60\n",
            "10/10 [==============================] - 0s 4ms/step - loss: 0.3391 - mae: 0.5163 - mse: 0.3391 - val_loss: 0.3063 - val_mae: 0.4811 - val_mse: 0.3063\n",
            "Epoch 3/60\n",
            "10/10 [==============================] - 0s 4ms/step - loss: 0.2596 - mae: 0.4525 - mse: 0.2596 - val_loss: 0.2383 - val_mae: 0.4239 - val_mse: 0.2383\n",
            "Epoch 4/60\n",
            "10/10 [==============================] - 0s 4ms/step - loss: 0.1994 - mae: 0.3957 - mse: 0.1994 - val_loss: 0.1831 - val_mae: 0.3704 - val_mse: 0.1831\n",
            "Epoch 5/60\n",
            "10/10 [==============================] - 0s 4ms/step - loss: 0.1496 - mae: 0.3396 - mse: 0.1496 - val_loss: 0.1390 - val_mae: 0.3185 - val_mse: 0.1390\n",
            "Epoch 6/60\n",
            "10/10 [==============================] - 0s 4ms/step - loss: 0.1120 - mae: 0.2882 - mse: 0.1120 - val_loss: 0.1071 - val_mae: 0.2759 - val_mse: 0.1071\n",
            "Epoch 7/60\n",
            "10/10 [==============================] - 0s 6ms/step - loss: 0.0854 - mae: 0.2458 - mse: 0.0854 - val_loss: 0.0843 - val_mae: 0.2414 - val_mse: 0.0843\n",
            "Epoch 8/60\n",
            "10/10 [==============================] - 0s 5ms/step - loss: 0.0674 - mae: 0.2149 - mse: 0.0674 - val_loss: 0.0684 - val_mae: 0.2148 - val_mse: 0.0684\n",
            "Epoch 9/60\n",
            "10/10 [==============================] - 0s 4ms/step - loss: 0.0550 - mae: 0.1945 - mse: 0.0550 - val_loss: 0.0571 - val_mae: 0.1957 - val_mse: 0.0571\n",
            "Epoch 10/60\n",
            "10/10 [==============================] - 0s 4ms/step - loss: 0.0459 - mae: 0.1768 - mse: 0.0459 - val_loss: 0.0479 - val_mae: 0.1788 - val_mse: 0.0479\n",
            "Epoch 11/60\n",
            "10/10 [==============================] - 0s 5ms/step - loss: 0.0382 - mae: 0.1597 - mse: 0.0382 - val_loss: 0.0407 - val_mae: 0.1654 - val_mse: 0.0407\n",
            "Epoch 12/60\n",
            "10/10 [==============================] - 0s 4ms/step - loss: 0.0325 - mae: 0.1468 - mse: 0.0325 - val_loss: 0.0344 - val_mae: 0.1523 - val_mse: 0.0344\n",
            "Epoch 13/60\n",
            "10/10 [==============================] - 0s 5ms/step - loss: 0.0275 - mae: 0.1331 - mse: 0.0275 - val_loss: 0.0292 - val_mae: 0.1400 - val_mse: 0.0292\n",
            "Epoch 14/60\n",
            "10/10 [==============================] - 0s 4ms/step - loss: 0.0234 - mae: 0.1223 - mse: 0.0234 - val_loss: 0.0255 - val_mae: 0.1300 - val_mse: 0.0255\n",
            "Epoch 15/60\n",
            "10/10 [==============================] - 0s 4ms/step - loss: 0.0202 - mae: 0.1126 - mse: 0.0202 - val_loss: 0.0226 - val_mae: 0.1218 - val_mse: 0.0226\n",
            "Epoch 16/60\n",
            "10/10 [==============================] - 0s 5ms/step - loss: 0.0180 - mae: 0.1069 - mse: 0.0180 - val_loss: 0.0197 - val_mae: 0.1114 - val_mse: 0.0197\n",
            "Epoch 17/60\n",
            "10/10 [==============================] - 0s 4ms/step - loss: 0.0162 - mae: 0.1010 - mse: 0.0162 - val_loss: 0.0177 - val_mae: 0.1050 - val_mse: 0.0177\n",
            "Epoch 18/60\n",
            "10/10 [==============================] - 0s 4ms/step - loss: 0.0144 - mae: 0.0959 - mse: 0.0144 - val_loss: 0.0170 - val_mae: 0.0994 - val_mse: 0.0170\n",
            "Epoch 19/60\n",
            "10/10 [==============================] - 0s 4ms/step - loss: 0.0132 - mae: 0.0913 - mse: 0.0132 - val_loss: 0.0154 - val_mae: 0.0949 - val_mse: 0.0154\n",
            "Epoch 20/60\n",
            "10/10 [==============================] - 0s 4ms/step - loss: 0.0121 - mae: 0.0872 - mse: 0.0121 - val_loss: 0.0140 - val_mae: 0.0894 - val_mse: 0.0140\n",
            "Epoch 21/60\n",
            "10/10 [==============================] - 0s 5ms/step - loss: 0.0109 - mae: 0.0825 - mse: 0.0109 - val_loss: 0.0133 - val_mae: 0.0861 - val_mse: 0.0133\n",
            "Epoch 22/60\n",
            "10/10 [==============================] - 0s 4ms/step - loss: 0.0101 - mae: 0.0797 - mse: 0.0101 - val_loss: 0.0123 - val_mae: 0.0833 - val_mse: 0.0123\n",
            "Epoch 23/60\n",
            "10/10 [==============================] - 0s 4ms/step - loss: 0.0093 - mae: 0.0767 - mse: 0.0093 - val_loss: 0.0114 - val_mae: 0.0820 - val_mse: 0.0114\n",
            "Epoch 24/60\n",
            "10/10 [==============================] - 0s 4ms/step - loss: 0.0087 - mae: 0.0736 - mse: 0.0087 - val_loss: 0.0107 - val_mae: 0.0799 - val_mse: 0.0107\n",
            "Epoch 25/60\n",
            "10/10 [==============================] - 0s 5ms/step - loss: 0.0081 - mae: 0.0705 - mse: 0.0081 - val_loss: 0.0102 - val_mae: 0.0774 - val_mse: 0.0102\n",
            "Epoch 26/60\n",
            "10/10 [==============================] - 0s 5ms/step - loss: 0.0076 - mae: 0.0686 - mse: 0.0076 - val_loss: 0.0096 - val_mae: 0.0751 - val_mse: 0.0096\n",
            "Epoch 27/60\n",
            "10/10 [==============================] - 0s 4ms/step - loss: 0.0072 - mae: 0.0657 - mse: 0.0072 - val_loss: 0.0093 - val_mae: 0.0751 - val_mse: 0.0093\n",
            "Epoch 28/60\n",
            "10/10 [==============================] - 0s 4ms/step - loss: 0.0068 - mae: 0.0638 - mse: 0.0068 - val_loss: 0.0087 - val_mae: 0.0731 - val_mse: 0.0087\n",
            "Epoch 29/60\n",
            "10/10 [==============================] - 0s 5ms/step - loss: 0.0063 - mae: 0.0619 - mse: 0.0063 - val_loss: 0.0085 - val_mae: 0.0703 - val_mse: 0.0085\n",
            "Epoch 30/60\n",
            "10/10 [==============================] - 0s 4ms/step - loss: 0.0059 - mae: 0.0589 - mse: 0.0059 - val_loss: 0.0082 - val_mae: 0.0701 - val_mse: 0.0082\n",
            "Epoch 31/60\n",
            "10/10 [==============================] - 0s 5ms/step - loss: 0.0056 - mae: 0.0578 - mse: 0.0056 - val_loss: 0.0082 - val_mae: 0.0701 - val_mse: 0.0082\n",
            "Epoch 32/60\n",
            "10/10 [==============================] - 0s 5ms/step - loss: 0.0056 - mae: 0.0578 - mse: 0.0056 - val_loss: 0.0073 - val_mae: 0.0685 - val_mse: 0.0073\n",
            "Epoch 33/60\n",
            "10/10 [==============================] - 0s 4ms/step - loss: 0.0052 - mae: 0.0553 - mse: 0.0052 - val_loss: 0.0074 - val_mae: 0.0669 - val_mse: 0.0074\n",
            "Epoch 34/60\n",
            "10/10 [==============================] - 0s 4ms/step - loss: 0.0050 - mae: 0.0540 - mse: 0.0050 - val_loss: 0.0073 - val_mae: 0.0659 - val_mse: 0.0073\n",
            "Epoch 35/60\n",
            "10/10 [==============================] - 0s 5ms/step - loss: 0.0049 - mae: 0.0536 - mse: 0.0049 - val_loss: 0.0070 - val_mae: 0.0659 - val_mse: 0.0070\n",
            "Epoch 36/60\n",
            "10/10 [==============================] - 0s 4ms/step - loss: 0.0047 - mae: 0.0520 - mse: 0.0047 - val_loss: 0.0066 - val_mae: 0.0656 - val_mse: 0.0066\n",
            "Epoch 37/60\n",
            "10/10 [==============================] - 0s 4ms/step - loss: 0.0048 - mae: 0.0528 - mse: 0.0048 - val_loss: 0.0068 - val_mae: 0.0656 - val_mse: 0.0068\n",
            "Epoch 38/60\n",
            "10/10 [==============================] - 0s 4ms/step - loss: 0.0044 - mae: 0.0501 - mse: 0.0044 - val_loss: 0.0068 - val_mae: 0.0638 - val_mse: 0.0068\n",
            "Epoch 39/60\n",
            "10/10 [==============================] - 0s 4ms/step - loss: 0.0044 - mae: 0.0496 - mse: 0.0044 - val_loss: 0.0062 - val_mae: 0.0639 - val_mse: 0.0062\n",
            "Epoch 40/60\n",
            "10/10 [==============================] - 0s 4ms/step - loss: 0.0044 - mae: 0.0496 - mse: 0.0044 - val_loss: 0.0061 - val_mae: 0.0616 - val_mse: 0.0061\n",
            "Epoch 41/60\n",
            "10/10 [==============================] - 0s 4ms/step - loss: 0.0044 - mae: 0.0501 - mse: 0.0044 - val_loss: 0.0062 - val_mae: 0.0633 - val_mse: 0.0062\n",
            "Epoch 42/60\n",
            "10/10 [==============================] - 0s 5ms/step - loss: 0.0043 - mae: 0.0490 - mse: 0.0043 - val_loss: 0.0064 - val_mae: 0.0620 - val_mse: 0.0064\n",
            "Epoch 43/60\n",
            "10/10 [==============================] - 0s 4ms/step - loss: 0.0042 - mae: 0.0485 - mse: 0.0042 - val_loss: 0.0061 - val_mae: 0.0645 - val_mse: 0.0061\n",
            "Epoch 44/60\n",
            "10/10 [==============================] - 0s 4ms/step - loss: 0.0041 - mae: 0.0480 - mse: 0.0041 - val_loss: 0.0058 - val_mae: 0.0607 - val_mse: 0.0058\n",
            "Epoch 45/60\n",
            "10/10 [==============================] - 0s 5ms/step - loss: 0.0042 - mae: 0.0482 - mse: 0.0042 - val_loss: 0.0059 - val_mae: 0.0623 - val_mse: 0.0059\n",
            "Epoch 46/60\n",
            "10/10 [==============================] - 0s 5ms/step - loss: 0.0040 - mae: 0.0469 - mse: 0.0040 - val_loss: 0.0060 - val_mae: 0.0603 - val_mse: 0.0060\n",
            "Epoch 47/60\n",
            "10/10 [==============================] - 0s 4ms/step - loss: 0.0039 - mae: 0.0462 - mse: 0.0039 - val_loss: 0.0057 - val_mae: 0.0611 - val_mse: 0.0057\n",
            "Epoch 48/60\n",
            "10/10 [==============================] - 0s 4ms/step - loss: 0.0039 - mae: 0.0469 - mse: 0.0039 - val_loss: 0.0060 - val_mae: 0.0599 - val_mse: 0.0060\n",
            "Epoch 49/60\n",
            "10/10 [==============================] - 0s 4ms/step - loss: 0.0038 - mae: 0.0470 - mse: 0.0038 - val_loss: 0.0062 - val_mae: 0.0599 - val_mse: 0.0062\n",
            "Epoch 50/60\n",
            "10/10 [==============================] - 0s 4ms/step - loss: 0.0038 - mae: 0.0456 - mse: 0.0038 - val_loss: 0.0056 - val_mae: 0.0598 - val_mse: 0.0056\n",
            "Epoch 51/60\n",
            "10/10 [==============================] - 0s 5ms/step - loss: 0.0037 - mae: 0.0459 - mse: 0.0037 - val_loss: 0.0057 - val_mae: 0.0594 - val_mse: 0.0057\n",
            "Epoch 52/60\n",
            "10/10 [==============================] - 0s 5ms/step - loss: 0.0037 - mae: 0.0464 - mse: 0.0037 - val_loss: 0.0057 - val_mae: 0.0594 - val_mse: 0.0057\n",
            "Epoch 53/60\n",
            "10/10 [==============================] - 0s 5ms/step - loss: 0.0038 - mae: 0.0457 - mse: 0.0038 - val_loss: 0.0057 - val_mae: 0.0590 - val_mse: 0.0057\n",
            "Epoch 54/60\n",
            "10/10 [==============================] - 0s 5ms/step - loss: 0.0036 - mae: 0.0450 - mse: 0.0036 - val_loss: 0.0057 - val_mae: 0.0590 - val_mse: 0.0057\n",
            "Epoch 55/60\n",
            "10/10 [==============================] - 0s 41ms/step - loss: 0.0037 - mae: 0.0449 - mse: 0.0037 - val_loss: 0.0056 - val_mae: 0.0602 - val_mse: 0.0056\n",
            "Epoch 56/60\n",
            "10/10 [==============================] - 0s 4ms/step - loss: 0.0036 - mae: 0.0449 - mse: 0.0036 - val_loss: 0.0057 - val_mae: 0.0587 - val_mse: 0.0057\n",
            "Epoch 57/60\n",
            "10/10 [==============================] - 0s 4ms/step - loss: 0.0036 - mae: 0.0444 - mse: 0.0036 - val_loss: 0.0057 - val_mae: 0.0603 - val_mse: 0.0057\n",
            "Epoch 58/60\n",
            "10/10 [==============================] - 0s 4ms/step - loss: 0.0036 - mae: 0.0452 - mse: 0.0036 - val_loss: 0.0056 - val_mae: 0.0592 - val_mse: 0.0056\n",
            "Epoch 59/60\n",
            "10/10 [==============================] - 0s 4ms/step - loss: 0.0035 - mae: 0.0435 - mse: 0.0035 - val_loss: 0.0059 - val_mae: 0.0619 - val_mse: 0.0059\n",
            "Epoch 60/60\n",
            "10/10 [==============================] - 0s 4ms/step - loss: 0.0035 - mae: 0.0444 - mse: 0.0035 - val_loss: 0.0055 - val_mae: 0.0578 - val_mse: 0.0055\n"
          ],
          "name": "stdout"
        }
      ]
    },
    {
      "cell_type": "code",
      "metadata": {
        "id": "ET-R5j2SfB6A",
        "colab_type": "code",
        "outputId": "a9262b47-21ce-4877-dd1a-7e10ded929a8",
        "colab": {
          "base_uri": "https://localhost:8080/",
          "height": 204
        }
      },
      "source": [
        "hist = pd.DataFrame(history.history)\n",
        "hist['epoch'] = history.epoch\n",
        "hist.tail()"
      ],
      "execution_count": 366,
      "outputs": [
        {
          "output_type": "execute_result",
          "data": {
            "text/html": [
              "<div>\n",
              "<style scoped>\n",
              "    .dataframe tbody tr th:only-of-type {\n",
              "        vertical-align: middle;\n",
              "    }\n",
              "\n",
              "    .dataframe tbody tr th {\n",
              "        vertical-align: top;\n",
              "    }\n",
              "\n",
              "    .dataframe thead th {\n",
              "        text-align: right;\n",
              "    }\n",
              "</style>\n",
              "<table border=\"1\" class=\"dataframe\">\n",
              "  <thead>\n",
              "    <tr style=\"text-align: right;\">\n",
              "      <th></th>\n",
              "      <th>loss</th>\n",
              "      <th>mae</th>\n",
              "      <th>mse</th>\n",
              "      <th>val_loss</th>\n",
              "      <th>val_mae</th>\n",
              "      <th>val_mse</th>\n",
              "      <th>epoch</th>\n",
              "    </tr>\n",
              "  </thead>\n",
              "  <tbody>\n",
              "    <tr>\n",
              "      <th>55</th>\n",
              "      <td>0.003649</td>\n",
              "      <td>0.044885</td>\n",
              "      <td>0.003649</td>\n",
              "      <td>0.005736</td>\n",
              "      <td>0.058718</td>\n",
              "      <td>0.005736</td>\n",
              "      <td>55</td>\n",
              "    </tr>\n",
              "    <tr>\n",
              "      <th>56</th>\n",
              "      <td>0.003604</td>\n",
              "      <td>0.044374</td>\n",
              "      <td>0.003604</td>\n",
              "      <td>0.005749</td>\n",
              "      <td>0.060251</td>\n",
              "      <td>0.005749</td>\n",
              "      <td>56</td>\n",
              "    </tr>\n",
              "    <tr>\n",
              "      <th>57</th>\n",
              "      <td>0.003631</td>\n",
              "      <td>0.045216</td>\n",
              "      <td>0.003631</td>\n",
              "      <td>0.005584</td>\n",
              "      <td>0.059175</td>\n",
              "      <td>0.005584</td>\n",
              "      <td>57</td>\n",
              "    </tr>\n",
              "    <tr>\n",
              "      <th>58</th>\n",
              "      <td>0.003460</td>\n",
              "      <td>0.043517</td>\n",
              "      <td>0.003460</td>\n",
              "      <td>0.005891</td>\n",
              "      <td>0.061891</td>\n",
              "      <td>0.005891</td>\n",
              "      <td>58</td>\n",
              "    </tr>\n",
              "    <tr>\n",
              "      <th>59</th>\n",
              "      <td>0.003532</td>\n",
              "      <td>0.044435</td>\n",
              "      <td>0.003532</td>\n",
              "      <td>0.005503</td>\n",
              "      <td>0.057833</td>\n",
              "      <td>0.005503</td>\n",
              "      <td>59</td>\n",
              "    </tr>\n",
              "  </tbody>\n",
              "</table>\n",
              "</div>"
            ],
            "text/plain": [
              "        loss       mae       mse  val_loss   val_mae   val_mse  epoch\n",
              "55  0.003649  0.044885  0.003649  0.005736  0.058718  0.005736     55\n",
              "56  0.003604  0.044374  0.003604  0.005749  0.060251  0.005749     56\n",
              "57  0.003631  0.045216  0.003631  0.005584  0.059175  0.005584     57\n",
              "58  0.003460  0.043517  0.003460  0.005891  0.061891  0.005891     58\n",
              "59  0.003532  0.044435  0.003532  0.005503  0.057833  0.005503     59"
            ]
          },
          "metadata": {
            "tags": []
          },
          "execution_count": 366
        }
      ]
    },
    {
      "cell_type": "code",
      "metadata": {
        "id": "1MsNec4pfn_t",
        "colab_type": "code",
        "outputId": "07bc2703-27e6-4726-f2ef-50bfe3d4cac0",
        "colab": {
          "base_uri": "https://localhost:8080/",
          "height": 268
        }
      },
      "source": [
        "plt.plot(hist.epoch, hist.mae, color='r', label='Train Error')\n",
        "plt.plot(hist.epoch, hist.val_mae, color='b', label='Val Error')\n",
        "plt.legend()\n",
        "plt.show()"
      ],
      "execution_count": 367,
      "outputs": [
        {
          "output_type": "display_data",
          "data": {
            "image/png": "[encoded data removed]",
            "text/plain": [
              "<Figure size 432x288 with 1 Axes>"
            ]
          },
          "metadata": {
            "tags": []
          }
        }
      ]
    },
    {
      "cell_type": "markdown",
      "metadata": {
        "id": "m-x3ph7NBeiY",
        "colab_type": "text"
      },
      "source": [
        "**Predictions**"
      ]
    },
    {
      "cell_type": "code",
      "metadata": {
        "id": "V6QINdGtgs9V",
        "colab_type": "code",
        "outputId": "922152ce-127f-4389-cb2b-cf61f1f7dc95",
        "colab": {
          "base_uri": "https://localhost:8080/",
          "height": 302
        }
      },
      "source": [
        "test_predictions = model.predict(normed_test_data).flatten()\n",
        "\n",
        "a = plt.axes(aspect='equal')\n",
        "plt.scatter(test_labels, test_predictions)\n",
        "plt.xlabel('True Values')\n",
        "plt.ylabel('Predictions')\n",
        "lims = [0, 1.1]\n",
        "plt.xlim(lims)\n",
        "plt.ylim(lims)\n",
        "plt.plot(lims, lims)"
      ],
      "execution_count": 368,
      "outputs": [
        {
          "output_type": "execute_result",
          "data": {
            "text/plain": [
              "[<matplotlib.lines.Line2D at 0x7fe0461c8d68>]"
            ]
          },
          "metadata": {
            "tags": []
          },
          "execution_count": 368
        },
        {
          "output_type": "display_data",
          "data": {
            "image/png": "[encoded data removed]",
            "text/plain": [
              "<Figure size 432x288 with 1 Axes>"
            ]
          },
          "metadata": {
            "tags": []
          }
        }
      ]
    },
    {
      "cell_type": "code",
      "metadata": {
        "id": "mVnQuqhxxyAb",
        "colab_type": "code",
        "outputId": "f5022bb2-3875-4fad-fb9d-3ade552020c6",
        "colab": {
          "base_uri": "https://localhost:8080/",
          "height": 51
        }
      },
      "source": [
        "loss, mae, mse = model.evaluate(normed_test_data, test_labels, verbose=2)\n",
        "print(f\"MAE: {round(mae*100,2)}%\")"
      ],
      "execution_count": 369,
      "outputs": [
        {
          "output_type": "stream",
          "text": [
            "4/4 - 0s - loss: 0.0052 - mae: 0.0512 - mse: 0.0052\n",
            "MAE: 5.12%\n"
          ],
          "name": "stdout"
        }
      ]
    },
    {
      "cell_type": "code",
      "metadata": {
        "id": "POTDdv6t6ZKF",
        "colab_type": "code",
        "colab": {
          "base_uri": "https://localhost:8080/",
          "height": 302
        },
        "outputId": "f8f17d66-0aa8-4d6a-a612-e8d469607495"
      },
      "source": [
        "error = test_predictions - test_labels\n",
        "plt.hist(error, bins = 25)\n",
        "plt.xlabel(\"Prediction Error\")\n",
        "plt.ylabel(\"Frequency\")"
      ],
      "execution_count": 370,
      "outputs": [
        {
          "output_type": "execute_result",
          "data": {
            "text/plain": [
              "Text(0, 0.5, 'Frequency')"
            ]
          },
          "metadata": {
            "tags": []
          },
          "execution_count": 370
        },
        {
          "output_type": "display_data",
          "data": {
            "image/png": "[encoded data removed]",
            "text/plain": [
              "<Figure size 432x288 with 1 Axes>"
            ]
          },
          "metadata": {
            "tags": []
          }
        }
      ]
    }
  ]
}